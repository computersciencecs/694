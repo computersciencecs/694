{
 "cells": [
  {
   "cell_type": "code",
   "execution_count": null,
   "id": "456c53b5-8be6-4469-a6ac-c9fa21c7b9a0",
   "metadata": {},
   "outputs": [],
   "source": [
    "workflow:"
   ]
  },
  {
   "cell_type": "code",
   "execution_count": 2,
   "id": "11a5bb42-f06b-4af3-a496-9a86c6f93acf",
   "metadata": {},
   "outputs": [
    {
     "name": "stdout",
     "output_type": "stream",
     "text": [
      "✅ Rating extraction completed, results saved to 1.txt\n"
     ]
    }
   ],
   "source": [
    "import re\n",
    "#1, Rating extraction\n",
    "# Input and output file paths\n",
    "input_file = \"inference.txt\"\n",
    "output_file = \"1.txt\"\n",
    "\n",
    "scores = []\n",
    "\n",
    "# Read and process the file\n",
    "with open(input_file, \"r\", encoding=\"utf-8\") as file:\n",
    "    lines = file.readlines()\n",
    "\n",
    "for line in lines:\n",
    "    # Use regular expressions to match the content between Output: and Explanation\n",
    "    match = re.search(r'Output:\\s*(.*?)\\s*Explanation', line)\n",
    "    if match:\n",
    "        score = match.group(1).strip()\n",
    "        scores.append(score)\n",
    "    else:\n",
    "        scores.append(\"\") \n",
    "\n",
    "with open(output_file, \"w\", encoding=\"utf-8\") as file:\n",
    "    file.write(\"\\n\".join(scores))\n",
    "\n",
    "print(f\"✅ Rating extraction completed, results saved to {output_file}\")"
   ]
  },
  {
   "cell_type": "code",
   "execution_count": 3,
   "id": "0622c41f-0ede-4e48-8c88-6cb49ae84a71",
   "metadata": {},
   "outputs": [
    {
     "name": "stdout",
     "output_type": "stream",
     "text": [
      "✅ Processing completed, results saved to filled_1.txt\n"
     ]
    }
   ],
   "source": [
    "# Input and output file paths\n",
    "input_file = \"1.txt\"\n",
    "output_file = \"filled_1.txt\"\n",
    "\n",
    "with open(input_file, \"r\", encoding=\"utf-8\") as file:\n",
    "    lines = file.readlines()\n",
    "\n",
    "processed_lines = [\"0\" if line.strip() == \"\" else line.strip() for line in lines]\n",
    "\n",
    "with open(output_file, \"w\", encoding=\"utf-8\") as file:\n",
    "    file.write(\"\\n\".join(processed_lines) + \"\\n\") \n",
    "\n",
    "print(f\"✅ Processing completed, results saved to {output_file}\")"
   ]
  },
  {
   "cell_type": "code",
   "execution_count": 4,
   "id": "77f13560-fd43-4c8b-8fda-4fbf1f06594a",
   "metadata": {},
   "outputs": [
    {
     "name": "stdout",
     "output_type": "stream",
     "text": [
      "✅ Processing completed, results saved to processed_filled_1.txt\n"
     ]
    }
   ],
   "source": [
    "import re\n",
    "\n",
    "input_file = \"filled_1.txt\"\n",
    "output_file = \"processed_filled_1.txt\"\n",
    "\n",
    "with open(input_file, \"r\", encoding=\"utf-8\") as file:\n",
    "    lines = file.readlines()\n",
    "\n",
    "# Replacement rules\n",
    "replacements = {\n",
    "    \"```4;```###\": \"4\",\n",
    "    \"4###\": \"4\",\n",
    "    \"5###\": \"5\",\n",
    "    \"```5;```###\": \"5\",\n",
    "    \"```1```###\": \"1\",\n",
    "    \"```4```###\": \"4\",\n",
    "    \"4```###\": \"4\",\n",
    "    \"5```###\": \"5\",\n",
    "    \"```5```###\": \"5\",\n",
    "    \"1```###\": \"1\",\n",
    "    \"4.0###\": \"4\",\n",
    "    \"10.020.030.0\": \"0\",\n",
    "    \"123\": \"2\",\n",
    "    \"1 1 1 1 1 1 1 1 1 1\": \"1\",\n",
    "    \"```0.0```###\": \"0\",\n",
    "    \"```1```###\": \"1\",\n",
    "    \"110.0\": \"0\",\n",
    "    \"5.05.05.0\": \"5\",\n",
    "    \"5.0\": \"5\",\n",
    "    \"0.0\": \"0\",\n",
    "    \"111\": \"1\",\n",
    "    \"0.00.00.0\": \"0\",\n",
    "    \"4.04.04.0\": \"4\",\n",
    "    \"444\": \"4\",\n",
    "    \"1.01.01.0\": \"1\",\n",
    "    \"555\": \"5\",\n",
    "    \"0.0###\": \"0\",\n",
    "    \"4.0###\": \"4\",\n",
    "    \"5.0###\": \"5\"\n",
    "}\n",
    "\n",
    "# Process file contents\n",
    "processed_lines = []\n",
    "for line in lines:\n",
    "    line = line.strip()  \n",
    "    for pattern, replacement in replacements.items():\n",
    "        if re.fullmatch(pattern, line):  \n",
    "            line = replacement\n",
    "            break  \n",
    "    processed_lines.append(line)\n",
    "\n",
    "\n",
    "with open(output_file, \"w\", encoding=\"utf-8\") as file:\n",
    "    file.write(\"\\n\".join(processed_lines) + \"\\n\") \n",
    "\n",
    "print(f\"✅ Processing completed, results saved to {output_file}\")"
   ]
  },
  {
   "cell_type": "code",
   "execution_count": null,
   "id": "442511d0-e13a-478e-a9ae-36cfee1ade86",
   "metadata": {},
   "outputs": [],
   "source": [
    "Check output format, processed_filled_1.txt-->processed_filled_2.txt"
   ]
  },
  {
   "cell_type": "code",
   "execution_count": 7,
   "id": "e67881e3-fd4a-46f1-9ae7-1c6fb7201029",
   "metadata": {},
   "outputs": [
    {
     "name": "stdout",
     "output_type": "stream",
     "text": [
      "✅ Data matching successful, start writing to CSV...\n",
      "✅ Processing completed, results saved to movies_with_scores.csv\n"
     ]
    }
   ],
   "source": [
    "import re\n",
    "import json\n",
    "import csv\n",
    "\n",
    "jsonl_file = \"pointwsietest.jsonl\"\n",
    "scores_file = \"processed_filled_2.txt\"\n",
    "output_csv = \"movies_with_scores.csv\"\n",
    "\n",
    "with open(scores_file, \"r\", encoding=\"utf-8\") as file:\n",
    "    scores = [line.strip() for line in file.readlines()]\n",
    "\n",
    "movies = []\n",
    "with open(jsonl_file, \"r\", encoding=\"utf-8\") as file:\n",
    "    for line in file:\n",
    "        data = json.loads(line)\n",
    "        inst = data.get(\"inst\", \"\")\n",
    "\n",
    "        # Use regular expressions to extract the text between \"the target movie\" and \" with the user\"\n",
    "        match = re.search(r'the target movie\\s*\"(.*?)\"\\s*with the user', inst)\n",
    "        if match:\n",
    "            movie_name = match.group(1)\n",
    "        else:\n",
    "            movie_name = \"Unknown\"\n",
    "\n",
    "        movies.append(movie_name)\n",
    "\n",
    "# Ensure that the number of movie names and ratings are consistent\n",
    "if len(movies) != len(scores):\n",
    "    print(\"⚠️ Warning: Number of movies does not match number of ratings\")\n",
    "else:\n",
    "    print(\"✅ Data matching successful, start writing to CSV...\")\n",
    "\n",
    "# Writing to CSV file\n",
    "with open(output_csv, \"w\", encoding=\"utf-8\", newline=\"\") as file:\n",
    "    writer = csv.writer(file)\n",
    "    writer.writerow([\"Movie\", \"Score\"])  \n",
    "    for movie, score in zip(movies, scores):\n",
    "        writer.writerow([movie, score])\n",
    "\n",
    "print(f\"✅ Processing completed, results saved to {output_csv}\")"
   ]
  },
  {
   "cell_type": "code",
   "execution_count": 8,
   "id": "8cead07b-d2ee-475b-a8fd-06070b457f96",
   "metadata": {},
   "outputs": [
    {
     "name": "stdout",
     "output_type": "stream",
     "text": [
      "✅ Processing completed, results saved to movies_recommendations.csv\n"
     ]
    }
   ],
   "source": [
    "import pandas as pd\n",
    "\n",
    "input_csv = \"movies_with_scores.csv\"\n",
    "output_csv = \"movies_recommendations.csv\"\n",
    "\n",
    "df = pd.read_csv(input_csv)\n",
    "\n",
    "movies = df.iloc[:, 0].tolist()  \n",
    "scores = df.iloc[:, 1].astype(float).tolist() \n",
    "\n",
    "\n",
    "alpha1 = 0.05\n",
    "\n",
    "\n",
    "num_movies = len(movies)\n",
    "group_size = 10  \n",
    "recommendations = []\n",
    "\n",
    "for i in range(0, num_movies, group_size):\n",
    "    movie_group = movies[i:i+group_size]  \n",
    "    score_group = scores[i:i+group_size]  \n",
    "\n",
    "\n",
    "    if len(movie_group) < group_size:\n",
    "        continue\n",
    "\n",
    "    # Calculate the new score: Score + alpha1 * (10 - sort index)\n",
    "    adjusted_scores = [score + alpha1 * (group_size - rank) for rank, score in enumerate(score_group)]\n",
    "\n",
    "    # Sort in descending order according to the adjusted score\n",
    "    sorted_movies = [movie for _, movie in sorted(zip(adjusted_scores, movie_group), reverse=True)]\n",
    "\n",
    "    \n",
    "    recommendations.append([len(recommendations) + 1] + sorted_movies[:5])\n",
    "\n",
    "\n",
    "columns = [\"Line Number\", \"Movie 1\", \"Movie 2\", \"Movie 3\", \"Movie 4\", \"Movie 5\"]\n",
    "df_output = pd.DataFrame(recommendations, columns=columns)\n",
    "df_output.to_csv(output_csv, index=False)\n",
    "\n",
    "print(f\"✅ Processing completed, results saved to {output_csv}\")"
   ]
  },
  {
   "cell_type": "code",
   "execution_count": 10,
   "id": "b41a89d3-16ed-49a7-8b2b-5b10a27305b9",
   "metadata": {},
   "outputs": [
    {
     "name": "stdout",
     "output_type": "stream",
     "text": [
      "CSV file created at: merged_with_movie_name.csv\n"
     ]
    }
   ],
   "source": [
    "import pandas as pd\n",
    "\n",
    "# Load the two CSV files\n",
    "movies_recommendations = pd.read_csv('movies_recommendations.csv')\n",
    "match_output = pd.read_csv('gt-match-output.csv')\n",
    "\n",
    "# Merge the files based on the 'Line Number' from movies_recommendations and 'index' from match_output\n",
    "merged_df = pd.merge(movies_recommendations, match_output[['index', 'movie_name']], how='left', left_on='Line Number', right_on='index')\n",
    "\n",
    "# Drop the extra 'index' column after the merge\n",
    "merged_df = merged_df.drop(columns=['index'])\n",
    "\n",
    "# Save the merged result to a new CSV file\n",
    "output_file = 'merged_with_movie_name.csv'\n",
    "merged_df.to_csv(output_file, index=False)\n",
    "\n",
    "print(f\"CSV file created at: {output_file}\")\n"
   ]
  },
  {
   "cell_type": "code",
   "execution_count": 11,
   "id": "4592747b-29bc-4cbf-9f24-f04549444be2",
   "metadata": {},
   "outputs": [
    {
     "name": "stdout",
     "output_type": "stream",
     "text": [
      "CSV file created at: merged_with_match_column.csv\n"
     ]
    }
   ],
   "source": [
    "import pandas as pd\n",
    "\n",
    "# Load the merged CSV file\n",
    "merged_df = pd.read_csv('merged_with_movie_name.csv')\n",
    "\n",
    "# Function to check if the movie_name matches any of Movie1 to Movie5\n",
    "def check_match(row):\n",
    "    for i in range(1, 6):\n",
    "        if row['movie_name'] == row[f'Movie {i}']:\n",
    "            return i\n",
    "    return 0\n",
    "\n",
    "# Apply the check_match function to each row and create a new column for the result\n",
    "merged_df['Match'] = merged_df.apply(check_match, axis=1)\n",
    "\n",
    "# Save the updated dataframe with the new column\n",
    "output_file_with_match = 'merged_with_match_column.csv'\n",
    "merged_df.to_csv(output_file_with_match, index=False)\n",
    "\n",
    "print(f\"CSV file created at: {output_file_with_match}\")"
   ]
  },
  {
   "cell_type": "code",
   "execution_count": 12,
   "id": "f050974f-a2b9-42c4-b29f-3d6171998e2e",
   "metadata": {
    "scrolled": true
   },
   "outputs": [
    {
     "name": "stdout",
     "output_type": "stream",
     "text": [
      "Hit@3: 0.2854330708661417\n",
      "NDCG@3: 0.20476922965410838\n",
      "Hit@5: 0.5019685039370079\n",
      "NDCG@5: 0.2935400689148425\n",
      "\n",
      "### Scaled Results (Multiplied by 508 / 6035) ###\n",
      "Scaled Hit@3: 0.024026512013256004\n",
      "Scaled NDCG@3: 0.017236581385963057\n",
      "Scaled Hit@5: 0.04225352112676056\n",
      "Scaled NDCG@5: 0.024708923779410107\n"
     ]
    }
   ],
   "source": [
    "import pandas as pd\n",
    "import numpy as np\n",
    "\n",
    "# Load the merged CSV file with the match column\n",
    "df = pd.read_csv('merged_with_match_column.csv')\n",
    "\n",
    "# Function to calculate Hit@n\n",
    "def calculate_hit(df, n):\n",
    "    return df['Match'].apply(lambda x: 1 if 0 < x <= n else 0).mean()\n",
    "\n",
    "# Function to calculate DCG@n and NDCG@n for each row\n",
    "def calculate_dcg(row, n):\n",
    "    match = row['Match']\n",
    "    if 0 < match <= n:  # if there's a match in the top n\n",
    "        return 1 / np.log2(match + 1)\n",
    "    return 0\n",
    "\n",
    "# Function to calculate NDCG@n\n",
    "def calculate_ndcg(df, n):\n",
    "    # Calculate DCG@n for each row\n",
    "    df[f'DCG@{n}'] = df.apply(lambda row: calculate_dcg(row, n), axis=1)\n",
    "    # Ideal DCG@n (IDCG@n) is always 1, since the best match is in the first position\n",
    "    idcg = 1 / np.log2(2)\n",
    "    # Calculate NDCG@n for each row\n",
    "    df[f'NDCG@{n}'] = df[f'DCG@{n}'] / idcg\n",
    "    return df[f'NDCG@{n}'].mean()\n",
    "\n",
    "# Calculate Hit@3 and NDCG@3\n",
    "hit_at_3 = calculate_hit(df, 3)\n",
    "ndcg_at_3 = calculate_ndcg(df, 3)\n",
    "\n",
    "# Calculate Hit@5 and NDCG@5\n",
    "hit_at_5 = calculate_hit(df, 5)\n",
    "ndcg_at_5 = calculate_ndcg(df, 5)\n",
    "\n",
    "# Scale factor\n",
    "scale_factor = 508 / 6035\n",
    "\n",
    "# Scaled results\n",
    "scaled_hit_at_3 = hit_at_3 * scale_factor\n",
    "scaled_ndcg_at_3 = ndcg_at_3 * scale_factor\n",
    "scaled_hit_at_5 = hit_at_5 * scale_factor\n",
    "scaled_ndcg_at_5 = ndcg_at_5 * scale_factor\n",
    "\n",
    "# Output the results\n",
    "print(f\"Hit@3: {hit_at_3}\")\n",
    "print(f\"NDCG@3: {ndcg_at_3}\")\n",
    "print(f\"Hit@5: {hit_at_5}\")\n",
    "print(f\"NDCG@5: {ndcg_at_5}\")\n",
    "\n",
    "print(\"\\n### Scaled Results (Multiplied by 508 / 6035) ###\")\n",
    "print(f\"Scaled Hit@3: {scaled_hit_at_3}\")\n",
    "print(f\"Scaled NDCG@3: {scaled_ndcg_at_3}\")\n",
    "print(f\"Scaled Hit@5: {scaled_hit_at_5}\")\n",
    "print(f\"Scaled NDCG@5: {scaled_ndcg_at_5}\")"
   ]
  },
  {
   "cell_type": "code",
   "execution_count": null,
   "id": "2159bd2f-9710-4a13-b24a-5e60840c04e5",
   "metadata": {},
   "outputs": [],
   "source": []
  },
  {
   "cell_type": "code",
   "execution_count": null,
   "id": "5591054a-282e-45c3-adfd-2cb018118509",
   "metadata": {},
   "outputs": [],
   "source": []
  }
 ],
 "metadata": {
  "kernelspec": {
   "display_name": "Python 3 (ipykernel)",
   "language": "python",
   "name": "python3"
  },
  "language_info": {
   "codemirror_mode": {
    "name": "ipython",
    "version": 3
   },
   "file_extension": ".py",
   "mimetype": "text/x-python",
   "name": "python",
   "nbconvert_exporter": "python",
   "pygments_lexer": "ipython3",
   "version": "3.10.13"
  }
 },
 "nbformat": 4,
 "nbformat_minor": 5
}
