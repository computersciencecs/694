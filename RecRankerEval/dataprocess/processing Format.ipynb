{
 "cells": [
  {
   "cell_type": "code",
   "execution_count": null,
   "id": "d8d51199-6d79-4346-8797-6ca212e1f9cc",
   "metadata": {},
   "outputs": [],
   "source": [
    "import re\n",
    "\n",
    "def replace_delimiters(input_file, output_file):\n",
    "\"\"\" Read dislike.txt, replace delimiters with spaces, and output dislike_set.txt \"\"\"    \n",
    "\n",
    "    delimiter_pattern = r'[,;\\t|]'\n",
    "\n",
    "    with open(input_file, 'r', encoding='utf-8') as infile, \\\n",
    "         open(output_file, 'w', encoding='utf-8') as outfile:\n",
    "        \n",
    "        for line in infile:\n",
    "            cleaned_line = re.sub(delimiter_pattern, ' ', line.strip())  # Replace delimiters with spaces\n",
    "            outfile.write(cleaned_line + '\\n')\n",
    "\n",
    "    print(f\"✅ Processed! All delimiters replaced with spaces, output to `{output_file}`\")\n",
    "\n",
    "replace_delimiters(\"dislike.txt\", \"dislike_set.txt\")"
   ]
  }
 ],
 "metadata": {
  "kernelspec": {
   "display_name": "Python 3 (ipykernel)",
   "language": "python",
   "name": "python3"
  },
  "language_info": {
   "codemirror_mode": {
    "name": "ipython",
    "version": 3
   },
   "file_extension": ".py",
   "mimetype": "text/x-python",
   "name": "python",
   "nbconvert_exporter": "python",
   "pygments_lexer": "ipython3",
   "version": "3.10.13"
  }
 },
 "nbformat": 4,
 "nbformat_minor": 5
}
